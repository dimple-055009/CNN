{
  "cells": [
    {
      "cell_type": "markdown",
      "metadata": {
        "id": "9dX4L9GXuXKq"
      },
      "source": [
        "##**Digit Recognition (MNIST) CNN-Based Handwritten**\n",
        "\n",
        "Contributors:\n",
        "- Rohan Jha (055057)\n",
        "- Dimple (55009)"
      ]
    },
    {
      "cell_type": "markdown",
      "source": [
        "## Objective\n",
        "The primary objective of this project is to develop a **Deep Convolutional Neural Network (CNN)** model to accurately classify handwritten digits from the **MNIST dataset**. This project aims to demonstrate the effectiveness of CNNs in **image recognition tasks**, particularly in the context of **medical image analysis and healthcare automation**. The model enhances **diagnostic precision** and reduces manual workload by automating digit recognition. The goal is to build a robust and efficient classifier capable of **generalizing well to unseen data**.\n",
        "\n",
        "## Data Description\n",
        "### 1. Dataset\n",
        "The project utilizes the **MNIST Handwritten Digit Recognition dataset**.\n",
        "\n",
        "### 2. Data Loading\n",
        "The dataset is loaded and prepared using **pandas DataFrames**. While specific file paths are not provided in the visible code, the intention is clear.\n",
        "\n",
        "### 3. Features\n",
        "- **Input Features**: Pixel values of the handwritten digits, represented as a flattened vector.\n",
        "- **Labels**: Digits (0-9), representing the actual digit in the image.\n",
        "\n",
        "### 4. Data Characteristics\n",
        "- **Images** are **grayscale** with pixel values ranging from **0 to 255**.\n",
        "- Each image is **28×28 pixels**, a standard MNIST characteristic.\n",
        "\n",
        "### 5. Preprocessing\n",
        "- **Normalization**: Pixel values are **scaled between 0 and 1** by dividing by 255, improving model convergence.\n",
        "- **Reshaping**: The pixel values are reshaped into **(28, 28, 1)** format to match CNN input requirements.\n",
        "- **Encoding**: Labels are converted into **one-hot encoded vectors** for multi-class classification.\n",
        "- **Train-Test Split**: The dataset is split into **training and validation** sets to assess performance.\n",
        "- **Data Augmentation**: Augmentation techniques are used to artificially expand the dataset and improve generalization.\n",
        "\n",
        "## Observations\n",
        "### 1. Importing Libraries\n",
        "- The notebook confirms the successful import of **TensorFlow, Keras, Pandas, and Matplotlib**.\n",
        "- No error messages indicate all dependencies are installed correctly.\n",
        "\n",
        "### 2. Data Loading and Preprocessing\n",
        "- The **MNIST dataset was successfully loaded and preprocessed**, including **normalization, reshaping, and encoding**.\n",
        "- **Countplot analysis** confirmed a balanced class distribution.\n",
        "- No missing values were detected, ensuring data integrity.\n",
        "\n",
        "### 3. Model Building\n",
        "- Implemented **LeNet-5 architecture**, known for its suitability for digit recognition.\n",
        "- The architecture includes:\n",
        "  - **Convolutional layers** for feature extraction.\n",
        "  - **Pooling layers** for dimensionality reduction.\n",
        "  - **Dropout layers** for regularization.\n",
        "  - **Fully connected output layer** for classification.\n",
        "- **Optimizer**: RMSProp with **ReduceLROnPlateau** for adaptive learning rate adjustments.\n",
        "\n",
        "### 4. Model Training\n",
        "- **GPU acceleration was utilized** to speed up training.\n",
        "- **Training and validation losses decreased progressively**, indicating effective learning.\n",
        "- **Monitoring loss and accuracy trends** helped prevent overfitting.\n",
        "\n",
        "### 5. Model Evaluation\n",
        "- **Learning curves** confirmed model convergence.\n",
        "- **Confusion matrix** revealed classification performance across all digits.\n",
        "- **Error analysis** identified areas for potential improvement.\n",
        "\n",
        "### 6. Prediction Using Test Data\n",
        "- The trained model was used to **predict test data**, storing results in a CSV file for potential **Kaggle submission**.\n",
        "\n",
        "## Managerial Insights\n",
        "### 1. Automation Potential\n",
        "- The high classification accuracy confirms viability for **digit recognition automation** in **banking, postal services, and document digitization**.\n",
        "\n",
        "### 2. Cost-Effectiveness\n",
        "- Deep learning automation reduces **manual data entry costs** and improves operational efficiency.\n",
        "\n",
        "### 3. Scalability & Adaptability\n",
        "- The model can be **adapted for different scripts, languages, and handwritten character recognition tasks**.\n",
        "\n",
        "### 4. Performance vs. Infrastructure\n",
        "- CNNs require **robust computational resources (GPU)**, but cloud-based AI services can optimize costs and performance.\n",
        "\n",
        "### 5. Continuous Improvement\n",
        "- Future improvements can be achieved through:\n",
        "  - **Continuous model retraining with new data**.\n",
        "  - **Active learning strategies** based on confusion matrix insights.\n",
        "  - **Hyperparameter tuning** to refine model performance.\n",
        "\n",
        "### 6. Strategic Decision-Making\n",
        "- Before implementing AI-driven handwriting recognition, businesses should evaluate:\n",
        "  - **Data availability**\n",
        "  - **Infrastructure capabilities**\n",
        "  - **Regulatory compliance**\n",
        "- The model’s high accuracy suggests a **strong business case** for integrating **AI-driven automation** in document processing and digitization.\n",
        "\n",
        "## Summary\n",
        "This report provides a **comprehensive overview** of the **CNN-based MNIST Handwritten Digit Recognition project**, covering the **objective, data description, preprocessing, model architecture, observations, and managerial insights**. The detailed evaluation highlights **how deep learning improves classification accuracy**, reinforcing its value in **automated document processing and AI-driven digit recognition systems**.\n"
      ],
      "metadata": {
        "id": "Rr3n-jOcDnT0"
      }
    },
    {
      "cell_type": "markdown",
      "metadata": {
        "id": "K_YntzlsRNWx"
      },
      "source": [
        "#**Problem Statement**\n",
        "\n",
        "**1. Importance of Medical Image Analysis:**\n",
        "   - Essential for disease diagnosis, treatment planning, and healthcare automation.\n",
        "\n",
        "**2. Challenges in Traditional Methods:**\n",
        "   - Inconsistencies, human errors, and delayed or inaccurate assessments.\n",
        "\n",
        "**3. Project Goal**\n",
        "   - Develop a Deep Convolutional Neural Network (CNN) model for automated medical image classification.\n",
        "\n",
        "**4. Key Benefits**\n",
        "   - Enhances diagnostic precision and reduces manual workload.\n",
        "\n",
        "**5. Deep Learning Advantages:**\n",
        "   - Improves feature extraction and pattern recognition.\n",
        "\n",
        "**6. Real-World Applications**\n",
        "   - Tumor detection, pneumonia diagnosis, and skin lesion classification.\n",
        "  \n",
        "\n"
      ]
    },
    {
      "cell_type": "markdown",
      "metadata": {
        "id": "l97pEQXwvpNT"
      },
      "source": [
        "## **Project Structure**\n",
        "\n",
        "**1.** Importing Libraries\n",
        "\n",
        "**2.** Preparing the Dataset\n",
        "\n",
        "**3.** Model Building\n",
        "\n",
        "**4.** Model Fitting\n",
        "\n",
        "**5.** Model Analysis\n",
        "\n",
        "**6.** Predicting using test data\n"
      ]
    },
    {
      "cell_type": "markdown",
      "metadata": {
        "id": "1KOhAGcOwIYp"
      },
      "source": [
        "## **Data Analysis**\n",
        "\n",
        "### *1. Importing the Libraries*\n",
        "\n",
        "  - Tensorflow v2 - A open sourced machine learning framework from Google.\n",
        "  - Keras - A open sourced neural network library running on top of tensorflow.\n",
        "\n",
        "### *2. Preparing the Dataset*\n",
        "\n",
        "We incorporated the MNIST Handwritten Digit Recognition data. We used read_csv to load the dataset into a pandas DataFrame, enabling structured data manipulation. The label column was extracted and stored in Y_rjdd5709train, representing the target variable for training. The corresponding pixel values of the handwritten digits were stored in X_rjdd5709train for model input.\n",
        "\n",
        "To understand the distribution of digit classes, we visualized the total count of each category using a countplot. Additionally, we checked for any missing values in the dataset to ensure data integrity before proceeding with further preprocessing and model training.\n",
        "\n",
        "#### 2.1. Normalisation\n",
        "\n",
        "Normalization is applied to scale down the input values, ensuring the model trains efficiently. In this dataset, pixel values range from 0 to 255, representing different shades of gray. To optimize the learning process, each value is divided by 255, transforming the range to [0,1]. This helps the CNN converge faster, as smaller values make gradient updates more stable and reduce computational complexity. Scaling also improves feature learning, allowing the model to detect patterns more effectively.\n",
        "\n",
        "#### 2.2. Reshaping\n",
        "\n",
        "The array of pixel values are reshaped into a (28,28,1) matrix. We are feeding the CNN model with input_shape of 28x28x1 matrix.\n",
        "\n",
        "#### 2.3. Encoding\n",
        "\n",
        "The CNN model outputs predictions as a vector, where each value represents the probability of a digit belonging to a specific class. To match this format, the labels (digits) are converted into a one-hot encoded vector. This transformation allows the model to learn and adjust its parameters effectively during training, ensuring it can correctly classify handwritten digits based on the encoded outputs.\n",
        "\n",
        "#### 2.4. Train-Test Split\n",
        "\n",
        "To evaluate the model's performance effectively, we split the input data into two distinct sets: training data (rjdd5709train) and validation data. The training set is used to train the model, while the validation set helps assess how well the model generalizes to unseen data. By monitoring validation accuracy and loss, we can identify potential issues such as overfitting (when the model performs well on training data but poorly on new data) or underfitting (when the model fails to capture essential patterns). This segmentation ensures a balanced evaluation of model performance before final testing.\n",
        "\n",
        "### *3. Model Building*\n",
        "\n",
        "We implemented a Deep Convolutional Neural Network (CNN) using the LeNet-5 architecture, proposed by Yann LeCun (1998), known for its efficiency and ease of training in small-resolution image classification.\n",
        "\n",
        "The model follows this structure:\n",
        "\n",
        "*Input → [[Conv2D → ReLU] × 2 → MaxPool2D → Dropout] × 2 → Flatten → Dense → Dropout → Output*\n",
        "\n",
        "This setup ensures effective feature extraction, dimensionality reduction, and regularization to prevent overfitting.\n",
        "\n",
        "Data Augmentation - Since deep learning models require large datasets for effective training, data augmentation is used to artificially expand the dataset. Techniques like zooming, rotating, flipping, and cropping generate variations of existing images, improving the model’s ability to generalize across different handwriting styles.\n",
        "\n",
        "Optimization Strategy - We used RMSProp for faster and stable convergence and ReduceLROnPlateau to dynamically adjust the learning rate, improving accuracy by preventing performance stagnation.\n",
        "\n",
        "### *4. Model Fitting*\n",
        "\n",
        "The model is trained by fitting the dataset to the CNN architecture, allowing it to learn patterns and minimize error parameters. Since training deep learning models can be time-consuming on a CPU, we enabled Kaggle’s GPU support to accelerate the process. This ensures faster convergence and efficient computation during training.\n",
        "\n",
        "\n",
        "### *5. Prediction using test Data*\n",
        "\n",
        "After completing model training and performance evaluation, we predicted the test dataset for the competition. The model generated predictions, which were then stored in a CSV file for submission.\n"
      ]
    },
    {
      "cell_type": "markdown",
      "metadata": {
        "id": "Dvwl4F_LwAkv"
      },
      "source": [
        "## *Observations*\n",
        "\n",
        "### **Importing Libraries**  \n",
        "- All necessary libraries were successfully imported, including TensorFlow, Keras, Pandas, and Matplotlib\n",
        "\n",
        "### **Preparing the Dataset**  \n",
        "- The MNIST dataset was successfully loaded and preprocessed.  \n",
        "- The dataset was split into **training** and **validation** sets for better generalization.  \n",
        "- A **countplot** confirmed a balanced distribution of digit classes.  \n",
        "- No missing values were found in the dataset.  \n",
        "- Normalization was applied to scale pixel values from **[0,255] to [0,1]**, improving training efficiency.  \n",
        "\n",
        "### **Model Building**  \n",
        "- The **LeNet-5 architecture** was implemented due to its efficiency and simplicity for digit recognition.  \n",
        "- The network structure included **convolutional layers, pooling layers, dropout layers**, and a **fully connected output layer**.  \n",
        "- **Data Augmentation** was applied to artificially expand the dataset and improve model generalization.  \n",
        "- The **RMSProp optimizer** was used for better convergence, and **ReduceLROnPlateau** adjusted the learning rate dynamically.  \n",
        "\n",
        "### **Model Fitting**  \n",
        "- Training was conducted on Kaggle with **GPU support enabled**, significantly reducing computation time.  \n",
        "- Loss and accuracy values improved progressively over the epochs.  \n",
        "- Training and validation losses were monitored to ensure proper learning without overfitting.  \n",
        "\n",
        "### **Model Analysis**  \n",
        "- The **learning curve** showed that training and validation losses decreased over time, indicating successful training.  \n",
        "- The **confusion matrix** revealed that the model performed well across most digit classes, with some misclassifications.  \n",
        "- Despite high accuracy, some errors were observed, highlighting areas where the model could improve.  \n",
        "\n",
        "### **Predicting Using Test Data**  \n",
        "- The trained model was used to predict the test dataset.  \n",
        "- Predictions were stored in a **CSV file** for competition submission.  \n",
        "- The final model demonstrated strong performance, with results aligning well with the validation accuracy.  "
      ]
    },
    {
      "cell_type": "markdown",
      "metadata": {
        "id": "OEViAe-z0Qbt"
      },
      "source": [
        "## *Managerial Insights*\n",
        "\n",
        "- **Automation Potential**: The CNN model successfully classifies handwritten digits with high accuracy, making it a viable solution for **automated data entry systems** in banking, postal services, and form digitization. This can significantly reduce manual errors and processing time.  \n",
        "\n",
        "- **Cost-Effectiveness**: By utilizing **deep learning-based recognition**, organizations can cut down labor costs associated with manual digit transcription. Additionally, the use of **data augmentation** ensures better model performance without requiring large datasets, reducing data collection costs.  \n",
        "\n",
        "- **Scalability & Adaptability**: The model can be fine-tuned for recognizing characters in **different languages and handwritten scripts**, expanding its use cases across industries like finance, healthcare, and government document processing.  \n",
        "\n",
        "- **Performance vs. Infrastructure**: While CNNs deliver high accuracy, they require **computational resources** (such as GPUs). Cloud-based AI services can be leveraged to **balance cost and performance** for organizations looking to deploy such models at scale.  \n",
        "\n",
        "- **Error Handling & Continuous Improvement**: The confusion matrix highlights misclassifications, indicating potential biases in certain digits. Implementing **active learning** and periodically retraining the model with **new data** can help improve accuracy over time.  \n",
        "\n",
        "- **Strategic Decision-Making**: Businesses considering AI-driven handwriting recognition should analyze their **data availability, infrastructure, and compliance requirements** before deploying deep learning solutions. The model’s success in digit recognition suggests a strong **business case** for AI adoption in process automation."
      ]
    },
    {
      "cell_type": "markdown",
      "metadata": {
        "id": "zQHYkAoVUMKi"
      },
      "source": [
        "## **1. Importing the Libraries**"
      ]
    },
    {
      "cell_type": "code",
      "execution_count": null,
      "metadata": {
        "colab": {
          "base_uri": "https://localhost:8080/"
        },
        "id": "jo-FRo-cx4IZ",
        "outputId": "5c1c2db1-ba27-4647-e811-196dce2db1fe"
      },
      "outputs": [
        {
          "output_type": "stream",
          "name": "stdout",
          "text": [
            "Requirement already satisfied: tensorflow in /usr/local/lib/python3.11/dist-packages (2.18.0)\n",
            "Requirement already satisfied: absl-py>=1.0.0 in /usr/local/lib/python3.11/dist-packages (from tensorflow) (1.4.0)\n",
            "Requirement already satisfied: astunparse>=1.6.0 in /usr/local/lib/python3.11/dist-packages (from tensorflow) (1.6.3)\n",
            "Requirement already satisfied: flatbuffers>=24.3.25 in /usr/local/lib/python3.11/dist-packages (from tensorflow) (25.2.10)\n",
            "Requirement already satisfied: gast!=0.5.0,!=0.5.1,!=0.5.2,>=0.2.1 in /usr/local/lib/python3.11/dist-packages (from tensorflow) (0.6.0)\n",
            "Requirement already satisfied: google-pasta>=0.1.1 in /usr/local/lib/python3.11/dist-packages (from tensorflow) (0.2.0)\n",
            "Requirement already satisfied: libclang>=13.0.0 in /usr/local/lib/python3.11/dist-packages (from tensorflow) (18.1.1)\n",
            "Requirement already satisfied: opt-einsum>=2.3.2 in /usr/local/lib/python3.11/dist-packages (from tensorflow) (3.4.0)\n",
            "Requirement already satisfied: packaging in /usr/local/lib/python3.11/dist-packages (from tensorflow) (24.2)\n",
            "Requirement already satisfied: protobuf!=4.21.0,!=4.21.1,!=4.21.2,!=4.21.3,!=4.21.4,!=4.21.5,<6.0.0dev,>=3.20.3 in /usr/local/lib/python3.11/dist-packages (from tensorflow) (5.29.4)\n",
            "Requirement already satisfied: requests<3,>=2.21.0 in /usr/local/lib/python3.11/dist-packages (from tensorflow) (2.32.3)\n",
            "Requirement already satisfied: setuptools in /usr/local/lib/python3.11/dist-packages (from tensorflow) (75.2.0)\n",
            "Requirement already satisfied: six>=1.12.0 in /usr/local/lib/python3.11/dist-packages (from tensorflow) (1.17.0)\n",
            "Requirement already satisfied: termcolor>=1.1.0 in /usr/local/lib/python3.11/dist-packages (from tensorflow) (2.5.0)\n",
            "Requirement already satisfied: typing-extensions>=3.6.6 in /usr/local/lib/python3.11/dist-packages (from tensorflow) (4.13.0)\n",
            "Requirement already satisfied: wrapt>=1.11.0 in /usr/local/lib/python3.11/dist-packages (from tensorflow) (1.17.2)\n",
            "Requirement already satisfied: grpcio<2.0,>=1.24.3 in /usr/local/lib/python3.11/dist-packages (from tensorflow) (1.71.0)\n",
            "Requirement already satisfied: tensorboard<2.19,>=2.18 in /usr/local/lib/python3.11/dist-packages (from tensorflow) (2.18.0)\n",
            "Requirement already satisfied: keras>=3.5.0 in /usr/local/lib/python3.11/dist-packages (from tensorflow) (3.8.0)\n",
            "Requirement already satisfied: numpy<2.1.0,>=1.26.0 in /usr/local/lib/python3.11/dist-packages (from tensorflow) (2.0.2)\n",
            "Requirement already satisfied: h5py>=3.11.0 in /usr/local/lib/python3.11/dist-packages (from tensorflow) (3.13.0)\n",
            "Requirement already satisfied: ml-dtypes<0.5.0,>=0.4.0 in /usr/local/lib/python3.11/dist-packages (from tensorflow) (0.4.1)\n",
            "Requirement already satisfied: tensorflow-io-gcs-filesystem>=0.23.1 in /usr/local/lib/python3.11/dist-packages (from tensorflow) (0.37.1)\n",
            "Requirement already satisfied: wheel<1.0,>=0.23.0 in /usr/local/lib/python3.11/dist-packages (from astunparse>=1.6.0->tensorflow) (0.45.1)\n",
            "Requirement already satisfied: rich in /usr/local/lib/python3.11/dist-packages (from keras>=3.5.0->tensorflow) (13.9.4)\n",
            "Requirement already satisfied: namex in /usr/local/lib/python3.11/dist-packages (from keras>=3.5.0->tensorflow) (0.0.8)\n",
            "Requirement already satisfied: optree in /usr/local/lib/python3.11/dist-packages (from keras>=3.5.0->tensorflow) (0.14.1)\n",
            "Requirement already satisfied: charset-normalizer<4,>=2 in /usr/local/lib/python3.11/dist-packages (from requests<3,>=2.21.0->tensorflow) (3.4.1)\n",
            "Requirement already satisfied: idna<4,>=2.5 in /usr/local/lib/python3.11/dist-packages (from requests<3,>=2.21.0->tensorflow) (3.10)\n",
            "Requirement already satisfied: urllib3<3,>=1.21.1 in /usr/local/lib/python3.11/dist-packages (from requests<3,>=2.21.0->tensorflow) (2.3.0)\n",
            "Requirement already satisfied: certifi>=2017.4.17 in /usr/local/lib/python3.11/dist-packages (from requests<3,>=2.21.0->tensorflow) (2025.1.31)\n",
            "Requirement already satisfied: markdown>=2.6.8 in /usr/local/lib/python3.11/dist-packages (from tensorboard<2.19,>=2.18->tensorflow) (3.7)\n",
            "Requirement already satisfied: tensorboard-data-server<0.8.0,>=0.7.0 in /usr/local/lib/python3.11/dist-packages (from tensorboard<2.19,>=2.18->tensorflow) (0.7.2)\n",
            "Requirement already satisfied: werkzeug>=1.0.1 in /usr/local/lib/python3.11/dist-packages (from tensorboard<2.19,>=2.18->tensorflow) (3.1.3)\n",
            "Requirement already satisfied: MarkupSafe>=2.1.1 in /usr/local/lib/python3.11/dist-packages (from werkzeug>=1.0.1->tensorboard<2.19,>=2.18->tensorflow) (3.0.2)\n",
            "Requirement already satisfied: markdown-it-py>=2.2.0 in /usr/local/lib/python3.11/dist-packages (from rich->keras>=3.5.0->tensorflow) (3.0.0)\n",
            "Requirement already satisfied: pygments<3.0.0,>=2.13.0 in /usr/local/lib/python3.11/dist-packages (from rich->keras>=3.5.0->tensorflow) (2.18.0)\n",
            "Requirement already satisfied: mdurl~=0.1 in /usr/local/lib/python3.11/dist-packages (from markdown-it-py>=2.2.0->rich->keras>=3.5.0->tensorflow) (0.1.2)\n"
          ]
        }
      ],
      "source": [
        "!pip install tensorflow"
      ]
    },
    {
      "cell_type": "code",
      "execution_count": null,
      "metadata": {
        "colab": {
          "base_uri": "https://localhost:8080/"
        },
        "id": "LYlQnHuARMFQ",
        "outputId": "3c0842eb-7cbb-4171-9241-cfa527dcd0cc"
      },
      "outputs": [
        {
          "output_type": "stream",
          "name": "stdout",
          "text": [
            "TensorFlow Version:   2.18.0\n",
            "Keras Version:   3.8.0\n"
          ]
        }
      ],
      "source": [
        "# Importing Tensorflow and keras\n",
        "\n",
        "import tensorflow as tf\n",
        "from tensorflow.keras import layers\n",
        "from tensorflow.keras.preprocessing.image import ImageDataGenerator\n",
        "import pandas as pd\n",
        "import numpy as np\n",
        "import seaborn as sns\n",
        "import matplotlib.pyplot as plt\n",
        "import matplotlib.image as img\n",
        "%matplotlib inline\n",
        "\n",
        "from sklearn.model_selection import train_test_split\n",
        "from sklearn.metrics import confusion_matrix\n",
        "import itertools\n",
        "\n",
        "#Tensorflow Version\n",
        "print(\"TensorFlow Version:   \"+tf.version.VERSION)\n",
        "print(\"Keras Version:   \"+tf.keras.__version__)"
      ]
    },
    {
      "cell_type": "markdown",
      "metadata": {
        "id": "WEPDqrJLUWEi"
      },
      "source": [
        "## **2. Preparing the Dataset**"
      ]
    },
    {
      "cell_type": "code",
      "execution_count": null,
      "metadata": {
        "colab": {
          "base_uri": "https://localhost:8080/"
        },
        "id": "B5stZ8PVLQ3w",
        "outputId": "cd7551d3-e05f-4213-b73f-4ae849444eac"
      },
      "outputs": [
        {
          "output_type": "stream",
          "name": "stdout",
          "text": [
            "Requirement already satisfied: gdown in /usr/local/lib/python3.11/dist-packages (5.2.0)\n",
            "Requirement already satisfied: beautifulsoup4 in /usr/local/lib/python3.11/dist-packages (from gdown) (4.13.3)\n",
            "Requirement already satisfied: filelock in /usr/local/lib/python3.11/dist-packages (from gdown) (3.18.0)\n",
            "Requirement already satisfied: requests[socks] in /usr/local/lib/python3.11/dist-packages (from gdown) (2.32.3)\n",
            "Requirement already satisfied: tqdm in /usr/local/lib/python3.11/dist-packages (from gdown) (4.67.1)\n",
            "Requirement already satisfied: soupsieve>1.2 in /usr/local/lib/python3.11/dist-packages (from beautifulsoup4->gdown) (2.6)\n",
            "Requirement already satisfied: typing-extensions>=4.0.0 in /usr/local/lib/python3.11/dist-packages (from beautifulsoup4->gdown) (4.13.0)\n",
            "Requirement already satisfied: charset-normalizer<4,>=2 in /usr/local/lib/python3.11/dist-packages (from requests[socks]->gdown) (3.4.1)\n",
            "Requirement already satisfied: idna<4,>=2.5 in /usr/local/lib/python3.11/dist-packages (from requests[socks]->gdown) (3.10)\n",
            "Requirement already satisfied: urllib3<3,>=1.21.1 in /usr/local/lib/python3.11/dist-packages (from requests[socks]->gdown) (2.3.0)\n",
            "Requirement already satisfied: certifi>=2017.4.17 in /usr/local/lib/python3.11/dist-packages (from requests[socks]->gdown) (2025.1.31)\n",
            "Requirement already satisfied: PySocks!=1.5.7,>=1.5.6 in /usr/local/lib/python3.11/dist-packages (from requests[socks]->gdown) (1.7.1)\n",
            "Downloading...\n",
            "From: https://drive.google.com/uc?id=1kzRGrOYCHiNmU0X7m6UhBGcgVMrSy6M-\n",
            "To: /content/mnist_train.csv\n",
            "100% 76.8M/76.8M [00:00<00:00, 115MB/s]\n",
            "File imported successfully\n"
          ]
        }
      ],
      "source": [
        "# Train Data\n",
        "\n",
        "import pandas as pd\n",
        "!pip install gdown\n",
        "!gdown 1kzRGrOYCHiNmU0X7m6UhBGcgVMrSy6M-\n",
        "\n",
        "try:\n",
        "  rjdd5709train = pd.read_csv(\"mnist_train.csv\")\n",
        "  print(\"File imported successfully\")\n",
        "except FileNotFoundError:\n",
        "  print(\"File not found.\")"
      ]
    },
    {
      "cell_type": "code",
      "execution_count": null,
      "metadata": {
        "colab": {
          "base_uri": "https://localhost:8080/"
        },
        "id": "9RTsfWNpJp7b",
        "outputId": "3f380b28-5224-481c-d7a7-807950dec194"
      },
      "outputs": [
        {
          "output_type": "stream",
          "name": "stdout",
          "text": [
            "Requirement already satisfied: gdown in /usr/local/lib/python3.11/dist-packages (5.2.0)\n",
            "Requirement already satisfied: beautifulsoup4 in /usr/local/lib/python3.11/dist-packages (from gdown) (4.13.3)\n",
            "Requirement already satisfied: filelock in /usr/local/lib/python3.11/dist-packages (from gdown) (3.18.0)\n",
            "Requirement already satisfied: requests[socks] in /usr/local/lib/python3.11/dist-packages (from gdown) (2.32.3)\n",
            "Requirement already satisfied: tqdm in /usr/local/lib/python3.11/dist-packages (from gdown) (4.67.1)\n",
            "Requirement already satisfied: soupsieve>1.2 in /usr/local/lib/python3.11/dist-packages (from beautifulsoup4->gdown) (2.6)\n",
            "Requirement already satisfied: typing-extensions>=4.0.0 in /usr/local/lib/python3.11/dist-packages (from beautifulsoup4->gdown) (4.13.0)\n",
            "Requirement already satisfied: charset-normalizer<4,>=2 in /usr/local/lib/python3.11/dist-packages (from requests[socks]->gdown) (3.4.1)\n",
            "Requirement already satisfied: idna<4,>=2.5 in /usr/local/lib/python3.11/dist-packages (from requests[socks]->gdown) (3.10)\n",
            "Requirement already satisfied: urllib3<3,>=1.21.1 in /usr/local/lib/python3.11/dist-packages (from requests[socks]->gdown) (2.3.0)\n",
            "Requirement already satisfied: certifi>=2017.4.17 in /usr/local/lib/python3.11/dist-packages (from requests[socks]->gdown) (2025.1.31)\n",
            "Requirement already satisfied: PySocks!=1.5.7,>=1.5.6 in /usr/local/lib/python3.11/dist-packages (from requests[socks]->gdown) (1.7.1)\n",
            "Downloading...\n",
            "From: https://drive.google.com/uc?id=1VdeE1g1F2bz6YLrYw-iE8t06Bl1gq8Qk\n",
            "To: /content/test.csv\n",
            "100% 51.1M/51.1M [00:00<00:00, 60.6MB/s]\n",
            "File imported successfully\n"
          ]
        }
      ],
      "source": [
        "# Test Data\n",
        "\n",
        "!pip install gdown\n",
        "\n",
        "!gdown 1VdeE1g1F2bz6YLrYw-iE8t06Bl1gq8Qk\n",
        "\n",
        "try:\n",
        "  rjdd5709test = pd.read_csv(\"test.csv\")\n",
        "  print(\"File imported successfully\")\n",
        "except FileNotFoundError:\n",
        "  print(\"File not found.\")"
      ]
    },
    {
      "cell_type": "code",
      "execution_count": null,
      "metadata": {
        "colab": {
          "base_uri": "https://localhost:8080/",
          "height": 429
        },
        "id": "05yoL078UJIp",
        "outputId": "41e8b140-be9c-4ba8-ead0-d417425b9ec0"
      },
      "outputs": [
        {
          "output_type": "execute_result",
          "data": {
            "text/plain": [
              "label\n",
              "1    4684\n",
              "7    4401\n",
              "3    4351\n",
              "9    4188\n",
              "2    4177\n",
              "6    4137\n",
              "0    4132\n",
              "4    4072\n",
              "8    4063\n",
              "5    3795\n",
              "Name: count, dtype: int64"
            ],
            "text/html": [
              "<div>\n",
              "<style scoped>\n",
              "    .dataframe tbody tr th:only-of-type {\n",
              "        vertical-align: middle;\n",
              "    }\n",
              "\n",
              "    .dataframe tbody tr th {\n",
              "        vertical-align: top;\n",
              "    }\n",
              "\n",
              "    .dataframe thead th {\n",
              "        text-align: right;\n",
              "    }\n",
              "</style>\n",
              "<table border=\"1\" class=\"dataframe\">\n",
              "  <thead>\n",
              "    <tr style=\"text-align: right;\">\n",
              "      <th></th>\n",
              "      <th>count</th>\n",
              "    </tr>\n",
              "    <tr>\n",
              "      <th>label</th>\n",
              "      <th></th>\n",
              "    </tr>\n",
              "  </thead>\n",
              "  <tbody>\n",
              "    <tr>\n",
              "      <th>1</th>\n",
              "      <td>4684</td>\n",
              "    </tr>\n",
              "    <tr>\n",
              "      <th>7</th>\n",
              "      <td>4401</td>\n",
              "    </tr>\n",
              "    <tr>\n",
              "      <th>3</th>\n",
              "      <td>4351</td>\n",
              "    </tr>\n",
              "    <tr>\n",
              "      <th>9</th>\n",
              "      <td>4188</td>\n",
              "    </tr>\n",
              "    <tr>\n",
              "      <th>2</th>\n",
              "      <td>4177</td>\n",
              "    </tr>\n",
              "    <tr>\n",
              "      <th>6</th>\n",
              "      <td>4137</td>\n",
              "    </tr>\n",
              "    <tr>\n",
              "      <th>0</th>\n",
              "      <td>4132</td>\n",
              "    </tr>\n",
              "    <tr>\n",
              "      <th>4</th>\n",
              "      <td>4072</td>\n",
              "    </tr>\n",
              "    <tr>\n",
              "      <th>8</th>\n",
              "      <td>4063</td>\n",
              "    </tr>\n",
              "    <tr>\n",
              "      <th>5</th>\n",
              "      <td>3795</td>\n",
              "    </tr>\n",
              "  </tbody>\n",
              "</table>\n",
              "</div><br><label><b>dtype:</b> int64</label>"
            ]
          },
          "metadata": {},
          "execution_count": 28
        }
      ],
      "source": [
        "Y_rjdd5709train = rjdd5709train['label']\n",
        "\n",
        "#Dropping Label Column\n",
        "X_rjdd5709train = rjdd5709train.drop(labels=['label'],axis=1)\n",
        "\n",
        "#free up some space\n",
        "del rjdd5709train\n",
        "\n",
        "Y_rjdd5709train.value_counts()"
      ]
    },
    {
      "cell_type": "code",
      "execution_count": null,
      "metadata": {
        "colab": {
          "base_uri": "https://localhost:8080/",
          "height": 209
        },
        "id": "jGSazKXLXRtA",
        "outputId": "46738324-5c4d-4102-9995-72c860110f94"
      },
      "outputs": [
        {
          "output_type": "execute_result",
          "data": {
            "text/plain": [
              "count       784\n",
              "unique        1\n",
              "top       False\n",
              "freq        784\n",
              "dtype: object"
            ],
            "text/html": [
              "<div>\n",
              "<style scoped>\n",
              "    .dataframe tbody tr th:only-of-type {\n",
              "        vertical-align: middle;\n",
              "    }\n",
              "\n",
              "    .dataframe tbody tr th {\n",
              "        vertical-align: top;\n",
              "    }\n",
              "\n",
              "    .dataframe thead th {\n",
              "        text-align: right;\n",
              "    }\n",
              "</style>\n",
              "<table border=\"1\" class=\"dataframe\">\n",
              "  <thead>\n",
              "    <tr style=\"text-align: right;\">\n",
              "      <th></th>\n",
              "      <th>0</th>\n",
              "    </tr>\n",
              "  </thead>\n",
              "  <tbody>\n",
              "    <tr>\n",
              "      <th>count</th>\n",
              "      <td>784</td>\n",
              "    </tr>\n",
              "    <tr>\n",
              "      <th>unique</th>\n",
              "      <td>1</td>\n",
              "    </tr>\n",
              "    <tr>\n",
              "      <th>top</th>\n",
              "      <td>False</td>\n",
              "    </tr>\n",
              "    <tr>\n",
              "      <th>freq</th>\n",
              "      <td>784</td>\n",
              "    </tr>\n",
              "  </tbody>\n",
              "</table>\n",
              "</div><br><label><b>dtype:</b> object</label>"
            ]
          },
          "metadata": {},
          "execution_count": 29
        }
      ],
      "source": [
        "#Checking for any null or missing values\n",
        "X_rjdd5709train.isnull().any().describe()"
      ]
    },
    {
      "cell_type": "code",
      "execution_count": null,
      "metadata": {
        "colab": {
          "base_uri": "https://localhost:8080/",
          "height": 209
        },
        "id": "U3_xptjfNMPb",
        "outputId": "ff6d37f7-f96a-4d69-8f4a-4f5fcb7e4e6c"
      },
      "outputs": [
        {
          "output_type": "execute_result",
          "data": {
            "text/plain": [
              "count       784\n",
              "unique        1\n",
              "top       False\n",
              "freq        784\n",
              "dtype: object"
            ],
            "text/html": [
              "<div>\n",
              "<style scoped>\n",
              "    .dataframe tbody tr th:only-of-type {\n",
              "        vertical-align: middle;\n",
              "    }\n",
              "\n",
              "    .dataframe tbody tr th {\n",
              "        vertical-align: top;\n",
              "    }\n",
              "\n",
              "    .dataframe thead th {\n",
              "        text-align: right;\n",
              "    }\n",
              "</style>\n",
              "<table border=\"1\" class=\"dataframe\">\n",
              "  <thead>\n",
              "    <tr style=\"text-align: right;\">\n",
              "      <th></th>\n",
              "      <th>0</th>\n",
              "    </tr>\n",
              "  </thead>\n",
              "  <tbody>\n",
              "    <tr>\n",
              "      <th>count</th>\n",
              "      <td>784</td>\n",
              "    </tr>\n",
              "    <tr>\n",
              "      <th>unique</th>\n",
              "      <td>1</td>\n",
              "    </tr>\n",
              "    <tr>\n",
              "      <th>top</th>\n",
              "      <td>False</td>\n",
              "    </tr>\n",
              "    <tr>\n",
              "      <th>freq</th>\n",
              "      <td>784</td>\n",
              "    </tr>\n",
              "  </tbody>\n",
              "</table>\n",
              "</div><br><label><b>dtype:</b> object</label>"
            ]
          },
          "metadata": {},
          "execution_count": 30
        }
      ],
      "source": [
        "rjdd5709test.isnull().any().describe()"
      ]
    },
    {
      "cell_type": "markdown",
      "metadata": {
        "id": "xJQsCTooXv1X"
      },
      "source": [
        "### Normalisation"
      ]
    },
    {
      "cell_type": "code",
      "execution_count": null,
      "metadata": {
        "id": "pTFl1nLqXpSy"
      },
      "outputs": [],
      "source": [
        "X_rjdd5709train = X_rjdd5709train/255\n",
        "rjdd5709test = rjdd5709test/255"
      ]
    },
    {
      "cell_type": "markdown",
      "metadata": {
        "id": "0Lx2A8K8YAKn"
      },
      "source": [
        "### Reshape\n",
        "The array of pixel values are reshaped into a (28,28,1) matrix. We are feeding the CNN model with input_shape of 28x28x1 matrix."
      ]
    },
    {
      "cell_type": "code",
      "execution_count": null,
      "metadata": {
        "id": "RgJra9a4X9U1"
      },
      "outputs": [],
      "source": [
        "X_rjdd5709train = X_rjdd5709train.values.reshape(-1,28,28,1)"
      ]
    },
    {
      "cell_type": "code",
      "execution_count": null,
      "metadata": {
        "id": "wVu2fuihYXi7"
      },
      "outputs": [],
      "source": [
        "rjdd5709test = rjdd5709test.values.reshape(-1,28,28,1)"
      ]
    },
    {
      "cell_type": "markdown",
      "metadata": {
        "id": "GSbzJTHlYkhS"
      },
      "source": [
        "### Label Encoding"
      ]
    },
    {
      "cell_type": "code",
      "execution_count": null,
      "metadata": {
        "id": "U7DvS95KYrVa"
      },
      "outputs": [],
      "source": [
        "Y_rjdd5709train = tf.keras.utils.to_categorical(Y_rjdd5709train, num_classes=10)\n",
        "#To enable label into hot vector. For Eg.7 -> [0,0,0,0,0,0,0,1,0,0]"
      ]
    },
    {
      "cell_type": "markdown",
      "metadata": {
        "id": "z_6i2uEqsOCE"
      },
      "source": [
        "### Train and Validation Data Split\n"
      ]
    },
    {
      "cell_type": "code",
      "execution_count": null,
      "metadata": {
        "id": "UUBksBY12L8V"
      },
      "outputs": [],
      "source": [
        "#Spliting rjdd5709train\n",
        "X_rjdd5709train,X_val,Y_rjdd5709train,Y_val = train_test_split(X_rjdd5709train,Y_rjdd5709train,test_size=0.1,\n",
        "                                                random_state = 55009057)"
      ]
    },
    {
      "cell_type": "code",
      "execution_count": null,
      "metadata": {
        "colab": {
          "base_uri": "https://localhost:8080/",
          "height": 430
        },
        "id": "KVNgcZ5F3Ap5",
        "outputId": "16ef70e0-751c-44ae-d131-00a9fab368d8"
      },
      "outputs": [
        {
          "output_type": "display_data",
          "data": {
            "text/plain": [
              "<Figure size 640x480 with 1 Axes>"
            ],
            "image/png": "[encoded data removed]"
          },
          "metadata": {}
        }
      ],
      "source": [
        "#An image sample\n",
        "\n",
        "g = plt.imshow(X_rjdd5709train[0][:,:,0])"
      ]
    },
    {
      "cell_type": "markdown",
      "metadata": {
        "id": "tU1XRCKr3e0n"
      },
      "source": [
        "## 3. Model Building"
      ]
    },
    {
      "cell_type": "code",
      "execution_count": null,
      "metadata": {
        "colab": {
          "base_uri": "https://localhost:8080/"
        },
        "id": "kpkANohy3TaJ",
        "outputId": "ed4da3ed-5a59-4215-941e-8c3e42a0b27d"
      },
      "outputs": [
        {
          "output_type": "stream",
          "name": "stderr",
          "text": [
            "/usr/local/lib/python3.11/dist-packages/keras/src/layers/convolutional/base_conv.py:107: UserWarning: Do not pass an `input_shape`/`input_dim` argument to a layer. When using Sequential models, prefer using an `Input(shape)` object as the first layer in the model instead.\n",
            "  super().__init__(activity_regularizer=activity_regularizer, **kwargs)\n"
          ]
        }
      ],
      "source": [
        "#CNN Architecture is In -> [[Conv2D->relu]*2 -> MaxPool2D -> Dropout]*2 ->\n",
        "                           #Flatten -> Dense -> Dropout -> Out\n",
        "model = tf.keras.Sequential()\n",
        "\n",
        "model.add(layers.Conv2D(filters=32, kernel_size=(5,5), padding='Same',\n",
        "                       activation=tf.nn.relu, input_shape = (28,28,1)))\n",
        "model.add(layers.Conv2D(filters=32, kernel_size=(5,5), padding='Same',\n",
        "                       activation=tf.nn.relu))\n",
        "model.add(layers.MaxPool2D(pool_size=(2,2)))\n",
        "model.add(layers.Dropout(0.25))\n",
        "\n",
        "\n",
        "model.add(layers.Conv2D(filters=64, kernel_size=(3,3), padding='Same',\n",
        "                       activation=tf.nn.relu, input_shape = (28,28,1)))\n",
        "model.add(layers.Conv2D(filters=64, kernel_size=(3,3), padding='Same',\n",
        "                       activation=tf.nn.relu))\n",
        "model.add(layers.MaxPool2D(pool_size=(2,2),strides=(2,2)))\n",
        "model.add(layers.Dropout(0.25))\n",
        "\n",
        "model.add(layers.Flatten())\n",
        "model.add(layers.Dense(256,activation=tf.nn.relu))\n",
        "model.add(layers.Dropout(0.25))\n",
        "model.add(layers.Dense(10,activation=tf.nn.softmax))"
      ]
    },
    {
      "cell_type": "code",
      "execution_count": null,
      "metadata": {
        "id": "VuN1-e0uPCWy"
      },
      "outputs": [],
      "source": [
        "rjdd5709_optimizer = tf.keras.optimizers.RMSprop(learning_rate=0.001, rho=0.9, epsilon=1e-08)"
      ]
    },
    {
      "cell_type": "code",
      "execution_count": null,
      "metadata": {
        "id": "wiwSpyiYPcIb"
      },
      "outputs": [],
      "source": [
        "#Compiling Model\n",
        "\n",
        "model.compile(optimizer = rjdd5709_optimizer, loss='categorical_crossentropy',\n",
        "             metrics=[\"accuracy\"])"
      ]
    },
    {
      "cell_type": "code",
      "execution_count": null,
      "metadata": {
        "id": "FqExgW5DQoab"
      },
      "outputs": [],
      "source": [
        "#Setting Learning rate annealer\n",
        "\n",
        "learning_rate_reduction = tf.keras.callbacks.ReduceLROnPlateau(monitor='val_acc',\n",
        "                                           patience=3,\n",
        "                                           verbose=1,\n",
        "                                           factor=0.5,\n",
        "                                           min_lr=0.00001)"
      ]
    },
    {
      "cell_type": "code",
      "execution_count": null,
      "metadata": {
        "id": "VpoFy1wQRJf8"
      },
      "outputs": [],
      "source": [
        "rjdd5709_epochs=10\n",
        "rjdd5709_batch_size = 112"
      ]
    },
    {
      "cell_type": "code",
      "execution_count": null,
      "metadata": {
        "id": "lTi2iTMKROwt"
      },
      "outputs": [],
      "source": [
        "datagen = ImageDataGenerator(\n",
        "        featurewise_center=False,  # set input mean to 0 over the dataset\n",
        "        samplewise_center=False,  # set each sample mean to 0\n",
        "        featurewise_std_normalization=False,  # divide inputs by std of the dataset\n",
        "        samplewise_std_normalization=False,  # divide each input by its std\n",
        "        zca_whitening=False,  # apply ZCA whitening\n",
        "        rotation_range=10,  # randomly rotate images in the range (degrees, 0 to 180)\n",
        "        zoom_range = 0.1, # Randomly zoom image\n",
        "        width_shift_range=0.1,  # randomly shift images horizontally (fraction of total width)\n",
        "        height_shift_range=0.1,  # randomly shift images vertically (fraction of total height)\n",
        "        horizontal_flip=False,  # randomly flip images\n",
        "        vertical_flip=False)  # randomly flip images\n",
        "\n",
        "\n",
        "datagen.fit(X_rjdd5709train)"
      ]
    },
    {
      "cell_type": "markdown",
      "metadata": {
        "id": "qkX93W-P4iYl"
      },
      "source": [
        "## 4. Model Fitting"
      ]
    },
    {
      "cell_type": "code",
      "execution_count": null,
      "metadata": {
        "colab": {
          "base_uri": "https://localhost:8080/"
        },
        "id": "X_KVwvvusOCG",
        "outputId": "0b0ece17-88ea-4587-831c-ee49753dab29"
      },
      "outputs": [
        {
          "output_type": "stream",
          "name": "stdout",
          "text": [
            "CUDA Available.\n"
          ]
        }
      ],
      "source": [
        "if(tf.test.is_built_with_cuda() == True):\n",
        "    print(\"CUDA Available.\")\n",
        "else:\n",
        "    print(\"CUDA not Available.\")"
      ]
    },
    {
      "cell_type": "code",
      "execution_count": null,
      "metadata": {
        "colab": {
          "base_uri": "https://localhost:8080/"
        },
        "id": "BYvD4vpOz3_L",
        "outputId": "a9040801-e7f7-4b6a-ae24-278508002f2a"
      },
      "outputs": [
        {
          "output_type": "stream",
          "name": "stdout",
          "text": [
            "Epoch 1/10\n"
          ]
        },
        {
          "output_type": "stream",
          "name": "stderr",
          "text": [
            "/usr/local/lib/python3.11/dist-packages/keras/src/trainers/data_adapters/py_dataset_adapter.py:121: UserWarning: Your `PyDataset` class should call `super().__init__(**kwargs)` in its constructor. `**kwargs` can include `workers`, `use_multiprocessing`, `max_queue_size`. Do not pass these arguments to `fit()`, as they will be ignored.\n",
            "  self._warn_if_super_not_called()\n"
          ]
        },
        {
          "output_type": "stream",
          "name": "stdout",
          "text": [
            "337/337 - 290s - 861ms/step - accuracy: 0.8712 - loss: 0.4014 - val_accuracy: 0.9743 - val_loss: 0.0811 - learning_rate: 1.0000e-03\n",
            "Epoch 2/10\n"
          ]
        },
        {
          "output_type": "stream",
          "name": "stderr",
          "text": [
            "/usr/local/lib/python3.11/dist-packages/keras/src/callbacks/callback_list.py:145: UserWarning: Learning rate reduction is conditioned on metric `val_acc` which is not available. Available metrics are: accuracy,loss,val_accuracy,val_loss,learning_rate.\n",
            "  callback.on_epoch_end(epoch, logs)\n",
            "/usr/local/lib/python3.11/dist-packages/keras/src/trainers/epoch_iterator.py:107: UserWarning: Your input ran out of data; interrupting training. Make sure that your dataset or generator can generate at least `steps_per_epoch * epochs` batches. You may need to use the `.repeat()` function when building your dataset.\n",
            "  self._interrupted_warning()\n"
          ]
        },
        {
          "output_type": "stream",
          "name": "stdout",
          "text": [
            "337/337 - 11s - 34ms/step - accuracy: 0.9196 - loss: 0.2107 - val_accuracy: 0.9760 - val_loss: 0.0837 - learning_rate: 1.0000e-03\n",
            "Epoch 3/10\n",
            "337/337 - 292s - 867ms/step - accuracy: 0.9672 - loss: 0.1065 - val_accuracy: 0.9912 - val_loss: 0.0327 - learning_rate: 1.0000e-03\n",
            "Epoch 4/10\n",
            "337/337 - 9s - 26ms/step - accuracy: 0.9821 - loss: 0.0646 - val_accuracy: 0.9917 - val_loss: 0.0296 - learning_rate: 1.0000e-03\n",
            "Epoch 5/10\n",
            "337/337 - 256s - 760ms/step - accuracy: 0.9757 - loss: 0.0806 - val_accuracy: 0.9845 - val_loss: 0.0427 - learning_rate: 1.0000e-03\n",
            "Epoch 6/10\n",
            "337/337 - 8s - 22ms/step - accuracy: 0.9643 - loss: 0.1149 - val_accuracy: 0.9883 - val_loss: 0.0392 - learning_rate: 1.0000e-03\n",
            "Epoch 7/10\n",
            "337/337 - 321s - 952ms/step - accuracy: 0.9806 - loss: 0.0635 - val_accuracy: 0.9933 - val_loss: 0.0235 - learning_rate: 1.0000e-03\n",
            "Epoch 8/10\n",
            "337/337 - 11s - 32ms/step - accuracy: 0.9821 - loss: 0.0456 - val_accuracy: 0.9905 - val_loss: 0.0297 - learning_rate: 1.0000e-03\n",
            "Epoch 9/10\n",
            "337/337 - 308s - 915ms/step - accuracy: 0.9827 - loss: 0.0576 - val_accuracy: 0.9926 - val_loss: 0.0250 - learning_rate: 1.0000e-03\n",
            "Epoch 10/10\n",
            "337/337 - 11s - 32ms/step - accuracy: 0.9911 - loss: 0.0375 - val_accuracy: 0.9933 - val_loss: 0.0224 - learning_rate: 1.0000e-03\n"
          ]
        }
      ],
      "source": [
        "#Fitting the model\n",
        "# Commenting it since no need to run it again\n",
        "history = model.fit(datagen.flow(X_rjdd5709train, Y_rjdd5709train, batch_size=rjdd5709_batch_size),\n",
        "                     epochs=rjdd5709_epochs,\n",
        "                     validation_data=(X_val, Y_val),\n",
        "                     verbose=2,\n",
        "                     steps_per_epoch=X_rjdd5709train.shape[0] // rjdd5709_batch_size,\n",
        "                     callbacks=[learning_rate_reduction])\n"
      ]
    },
    {
      "cell_type": "code",
      "execution_count": null,
      "metadata": {
        "id": "5zyvqJu6I16Y"
      },
      "outputs": [],
      "source": [
        "# Saving the model for further faster processing\n",
        "\n",
        "model.save(\"CNNmodel.keras\", include_optimizer = True)"
      ]
    },
    {
      "cell_type": "code",
      "execution_count": null,
      "metadata": {
        "id": "K2w2icoyI9b1"
      },
      "outputs": [],
      "source": [
        "from tensorflow.keras.models import load_model\n",
        "\n",
        "# Define a custom object to map 'softmax_v2' to 'softmax'\n",
        "custom_objects = {'softmax_v2': tf.keras.activations.softmax}\n",
        "cnn_model = load_model(\"CNNmodel.keras\", custom_objects=custom_objects)"
      ]
    },
    {
      "cell_type": "markdown",
      "metadata": {
        "id": "J2i6erFdsOCG"
      },
      "source": [
        "## 5. Analyzing the model"
      ]
    },
    {
      "cell_type": "code",
      "execution_count": null,
      "metadata": {
        "colab": {
          "base_uri": "https://localhost:8080/",
          "height": 607
        },
        "id": "PMKZhU75z-b6",
        "outputId": "7512c215-199f-4fdc-ab90-9273b72b3fd9"
      },
      "outputs": [
        {
          "output_type": "display_data",
          "data": {
            "text/plain": [
              "<Figure size 800x600 with 2 Axes>"
            ],
            "image/png": "[encoded data removed]"
          },
          "metadata": {}
        }
      ],
      "source": [
        "# The loss and accuracy curves for training and validation\n",
        "\n",
        "fig, ax = plt.subplots(2, 1, figsize=(8, 6))\n",
        "ax[0].plot(history.history['loss'], color='b', label=\"Training Loss\")\n",
        "ax[0].plot(history.history['val_loss'], color='r', label=\"Validation Loss\")\n",
        "ax[0].legend(loc='best', shadow=True)\n",
        "ax[0].set_title('Loss Curves')\n",
        "\n",
        "ax[1].plot(history.history['accuracy'], color='b', label=\"Training Accuracy\")\n",
        "ax[1].plot(history.history['val_accuracy'], color='r', label=\"Validation Accuracy\")\n",
        "ax[1].legend(loc='best', shadow=True)\n",
        "ax[1].set_title('Accuracy Curves')\n",
        "\n",
        "plt.tight_layout()\n",
        "plt.show()\n"
      ]
    },
    {
      "cell_type": "code",
      "execution_count": null,
      "metadata": {
        "colab": {
          "base_uri": "https://localhost:8080/",
          "height": 523
        },
        "id": "IK6-TyagG4G4",
        "outputId": "75713e4a-869b-422d-b100-efbf58447b32"
      },
      "outputs": [
        {
          "output_type": "stream",
          "name": "stdout",
          "text": [
            "\u001b[1m132/132\u001b[0m \u001b[32m━━━━━━━━━━━━━━━━━━━━\u001b[0m\u001b[37m\u001b[0m \u001b[1m9s\u001b[0m 65ms/step\n"
          ]
        },
        {
          "output_type": "display_data",
          "data": {
            "text/plain": [
              "<Figure size 640x480 with 2 Axes>"
            ],
            "image/png": "[encoded data removed]"
          },
          "metadata": {}
        }
      ],
      "source": [
        "# plotting confussion matrix\n",
        "\n",
        "def plot_confusion_matrix(cm, classes,\n",
        "                          normalize=False,\n",
        "                          title='Confusion matrix',\n",
        "                          cmap=plt.cm.Blues):\n",
        "    \"\"\"\n",
        "    This function prints and plots the confusion matrix.\n",
        "    Normalization can be applied by setting `normalize=True`.\n",
        "    \"\"\"\n",
        "    plt.imshow(cm, interpolation='nearest', cmap=cmap)\n",
        "    plt.title(title)\n",
        "    plt.colorbar()\n",
        "    tick_marks = np.arange(len(classes))\n",
        "    plt.xticks(tick_marks, classes, rotation=45)\n",
        "    plt.yticks(tick_marks, classes)\n",
        "\n",
        "    if normalize:\n",
        "        cm = cm.astype('float') / cm.sum(axis=1)[:, np.newaxis]\n",
        "\n",
        "    thresh = cm.max() / 2.\n",
        "    for i, j in itertools.product(range(cm.shape[0]), range(cm.shape[1])):\n",
        "        plt.text(j, i, cm[i, j],\n",
        "                 horizontalalignment=\"center\",\n",
        "                 color=\"white\" if cm[i, j] > thresh else \"black\")\n",
        "\n",
        "    plt.tight_layout()\n",
        "    plt.ylabel('True label')\n",
        "    plt.xlabel('Predicted label')\n",
        "\n",
        "# Predict the values from the validation dataset\n",
        "Y_pred = model.predict(X_val)\n",
        "# Convert predictions classes to one hot vectors\n",
        "Y_pred_classes = np.argmax(Y_pred,axis = 1)\n",
        "# Convert validation observations to one hot vectors\n",
        "Y_true = np.argmax(Y_val,axis = 1)\n",
        "# compute the confusion matrix\n",
        "confusion_mtx = confusion_matrix(Y_true, Y_pred_classes)\n",
        "# plot the confusion matrix\n",
        "plot_confusion_matrix(confusion_mtx, classes = range(10))"
      ]
    },
    {
      "cell_type": "markdown",
      "metadata": {
        "id": "5A6DRczwsOCH"
      },
      "source": [
        "### Important Error"
      ]
    },
    {
      "cell_type": "code",
      "execution_count": null,
      "metadata": {
        "colab": {
          "base_uri": "https://localhost:8080/",
          "height": 430
        },
        "id": "tV4wnLTQG4G8",
        "outputId": "ac446f84-0e3b-480c-bfc5-f7866367fac9"
      },
      "outputs": [
        {
          "output_type": "display_data",
          "data": {
            "text/plain": [
              "<Figure size 640x480 with 6 Axes>"
            ],
            "image/png": "[encoded data removed]"
          },
          "metadata": {}
        }
      ],
      "source": [
        "# Errors are difference between predicted labels and true labels\n",
        "errors = (Y_pred_classes - Y_true != 0)\n",
        "\n",
        "Y_pred_classes_errors = Y_pred_classes[errors]\n",
        "Y_pred_errors = Y_pred[errors]\n",
        "Y_true_errors = Y_true[errors]\n",
        "X_val_errors = X_val[errors]\n",
        "\n",
        "def display_errors(errors_index,img_errors,pred_errors, obs_errors):\n",
        "    \"\"\" This function shows 6 images with their predicted and real labels\"\"\"\n",
        "    n = 0\n",
        "    nrows = 2\n",
        "    ncols = 3\n",
        "    fig, ax = plt.subplots(nrows,ncols,sharex=True,sharey=True)\n",
        "    for row in range(nrows):\n",
        "        for col in range(ncols):\n",
        "            error = errors_index[n]\n",
        "            ax[row,col].imshow((img_errors[error]).reshape((28,28)))\n",
        "            ax[row,col].set_title(\" Predicted :{} True :{}\".format(pred_errors[error],obs_errors[error]))\n",
        "            n += 1\n",
        "\n",
        "# Probabilities of the wrong predicted numbers\n",
        "Y_pred_errors_prob = np.max(Y_pred_errors,axis = 1)\n",
        "\n",
        "# Predicted probabilities of the true values in the error set\n",
        "true_prob_errors = np.diagonal(np.take(Y_pred_errors, Y_true_errors, axis=1))\n",
        "\n",
        "# Difference between the probability of the predicted label and the true label\n",
        "delta_pred_true_errors = Y_pred_errors_prob - true_prob_errors\n",
        "\n",
        "# Sorted list of the delta prob errors\n",
        "sorted_dela_errors = np.argsort(delta_pred_true_errors)\n",
        "\n",
        "# Top 6 errors\n",
        "most_important_errors = sorted_dela_errors[-6:]\n",
        "\n",
        "# Show the top 6 errors\n",
        "display_errors(most_important_errors, X_val_errors, Y_pred_classes_errors, Y_true_errors)"
      ]
    },
    {
      "cell_type": "markdown",
      "metadata": {
        "id": "7xIbswywsOCH"
      },
      "source": [
        "## 6. Predicting the test data"
      ]
    },
    {
      "cell_type": "code",
      "execution_count": null,
      "metadata": {
        "colab": {
          "base_uri": "https://localhost:8080/"
        },
        "id": "N9KswR97G4G-",
        "outputId": "42eaef43-2cf8-4173-e610-b8f5499c5afd"
      },
      "outputs": [
        {
          "output_type": "stream",
          "name": "stdout",
          "text": [
            "\u001b[1m875/875\u001b[0m \u001b[32m━━━━━━━━━━━━━━━━━━━━\u001b[0m\u001b[37m\u001b[0m \u001b[1m50s\u001b[0m 57ms/step\n"
          ]
        }
      ],
      "source": [
        "# predict results\n",
        "results = cnn_model.predict(rjdd5709test)\n",
        "\n",
        "# select the indix with the maximum probability\n",
        "results = np.argmax(results,axis = 1)\n",
        "\n",
        "results = pd.Series(results,name=\"Label\")"
      ]
    },
    {
      "cell_type": "code",
      "execution_count": null,
      "metadata": {
        "colab": {
          "base_uri": "https://localhost:8080/",
          "height": 78
        },
        "id": "i4-__qO8yu9l",
        "outputId": "b3e6b7bc-6a03-4b51-a9f6-637c602c3696"
      },
      "outputs": [
        {
          "output_type": "display_data",
          "data": {
            "text/plain": [
              "<Figure size 1500x300 with 21 Axes>"
            ],
            "image/png": "[encoded data removed]"
          },
          "metadata": {}
        }
      ],
      "source": [
        "import matplotlib.pyplot as plt\n",
        "\n",
        "# Assuming 'results' contains predicted labels and 'rjdd5709test' contains test images\n",
        "# Select a subset of images to display (e.g., the first 10)\n",
        "num_images_to_display = 21\n",
        "images = rjdd5709test[:num_images_to_display]\n",
        "predicted_labels = results[:num_images_to_display]\n",
        "\n",
        "# Create a figure and axes for the images\n",
        "fig, axes = plt.subplots(1, num_images_to_display, figsize=(15, 3))\n",
        "\n",
        "# Iterate through the images and display them with their predicted labels\n",
        "for i, ax in enumerate(axes):\n",
        "    ax.imshow(images[i].reshape(28, 28), cmap='gray')  # Reshape and display the image\n",
        "    ax.set_title(f\"Predicted: {predicted_labels[i]}\")  # Set the title with the predicted label\n",
        "    ax.axis('off')  # Turn off the axes\n",
        "\n",
        "plt.show()  # Show the figure"
      ]
    },
    {
      "cell_type": "code",
      "execution_count": null,
      "metadata": {
        "colab": {
          "base_uri": "https://localhost:8080/"
        },
        "id": "AlMCTkrdz-zo",
        "outputId": "a1a815cc-e318-48ac-bae9-0fa3cbb34706"
      },
      "outputs": [
        {
          "output_type": "stream",
          "name": "stdout",
          "text": [
            "Images saved to 'predicted_images.zip' file.\n"
          ]
        }
      ],
      "source": [
        "import os\n",
        "import numpy as np\n",
        "from PIL import Image\n",
        "import zipfile\n",
        "\n",
        "# Create a ZIP file to store the images\n",
        "output_zip = 'predicted_images.zip'\n",
        "\n",
        "# Open a new ZIP file in write mode\n",
        "with zipfile.ZipFile(output_zip, 'w') as zipf:\n",
        "    # Iterate through the test images and save them with predicted labels\n",
        "    for i, image in enumerate(rjdd5709test):\n",
        "        predicted_label = results[i]  # Get the predicted label for the current image\n",
        "        image_data = (image.reshape(28, 28) * 255).astype(np.uint8)  # Reshape and scale to 0-255\n",
        "        image = Image.fromarray(image_data, mode='L')  # Create a PIL Image object\n",
        "\n",
        "        # Generate a temporary filename with .jpg extension\n",
        "        image_filename = f'image_{i}_predicted_{predicted_label}.jpg'\n",
        "\n",
        "        # Save the image as JPG\n",
        "        image.save(image_filename, format='JPEG')\n",
        "\n",
        "        # Add the file to the ZIP archive\n",
        "        zipf.write(image_filename)\n",
        "\n",
        "        # Remove the temporary file\n",
        "        os.remove(image_filename)\n",
        "\n",
        "print(f\"Images saved to '{output_zip}' file.\")\n"
      ]
    },
    {
      "cell_type": "code",
      "execution_count": null,
      "metadata": {
        "id": "qvS8FrQEG4HC"
      },
      "outputs": [],
      "source": [
        "submission = pd.concat([pd.Series(range(1,28001),name = \"ImageId\"),results],axis = 1)\n",
        "\n",
        "submission.to_csv(\"cnn_mnist_datagen.csv\",index=False)"
      ]
    }
  ],
  "metadata": {
    "accelerator": "TPU",
    "colab": {
      "gpuType": "V28",
      "provenance": []
    },
    "kernelspec": {
      "display_name": "Python 3",
      "name": "python3"
    },
    "language_info": {
      "codemirror_mode": {
        "name": "ipython",
        "version": 3
      },
      "file_extension": ".py",
      "mimetype": "text/x-python",
      "name": "python",
      "nbconvert_exporter": "python",
      "pygments_lexer": "ipython3",
      "version": "3.6.4"
    }
  },
  "nbformat": 4,
  "nbformat_minor": 0
}